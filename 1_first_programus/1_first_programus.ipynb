{
 "cells": [
  {
   "cell_type": "code",
   "execution_count": 4,
   "id": "3d0dac06",
   "metadata": {},
   "outputs": [
    {
     "name": "stdout",
     "output_type": "stream",
     "text": [
      "Oleksandr start programming at 2025-10-05 19:08:12.737108. Lviv is the best city!\n"
     ]
    }
   ],
   "source": [
    "from datetime import datetime\n",
    "name = \"Oleksandr\"\n",
    "location = \"Lviv\"\n",
    "\n",
    "print(f\"{name} start programming at {datetime.now()}. {location} is the best city!\")"
   ]
  },
  {
   "cell_type": "markdown",
   "id": "f1ce0311",
   "metadata": {},
   "source": [
    "## Це моя перша програма у Python ##"
   ]
  },
  {
   "cell_type": "markdown",
   "id": "064bf166",
   "metadata": {},
   "source": [
    "## Програма AI та її пояснення ## \n",
    "\n",
    "Ця програма є символом початку \"свідомого\" спілкування між людиною та машиною.\n",
    "Вона робить три важливі речі:\n",
    "\n",
    " - print() — виводить текст або значення на екран.\n",
    "\n",
    " - input() — запитує введення даних від користувача (з клавіатури).\n",
    "\n",
    "З такої програми починається будь-яке інтелектуальне навчання: не з великих розрахунків, а з розуміння того, як вести діалог."
   ]
  },
  {
   "cell_type": "code",
   "execution_count": 5,
   "id": "36d66140",
   "metadata": {},
   "outputs": [
    {
     "name": "stdout",
     "output_type": "stream",
     "text": [
      "Радий знайомству, Олександр! Я — штучний інтелект, який вчиться спілкуватися.\n"
     ]
    }
   ],
   "source": [
    "def hello_ai():\n",
    "    name = input(\"Привіт! Як тебе звати? \")\n",
    "    print(f\"Радий знайомству, {name}! Я — штучний інтелект, який вчиться спілкуватися.\")\n",
    "\n",
    "hello_ai()"
   ]
  }
 ],
 "metadata": {
  "kernelspec": {
   "display_name": "Python 3",
   "language": "python",
   "name": "python3"
  },
  "language_info": {
   "codemirror_mode": {
    "name": "ipython",
    "version": 3
   },
   "file_extension": ".py",
   "mimetype": "text/x-python",
   "name": "python",
   "nbconvert_exporter": "python",
   "pygments_lexer": "ipython3",
   "version": "3.13.7"
  }
 },
 "nbformat": 4,
 "nbformat_minor": 5
}
