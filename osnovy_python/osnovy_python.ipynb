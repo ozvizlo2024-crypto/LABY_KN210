{
 "cells": [
  {
   "cell_type": "markdown",
   "id": "4f12f1f1",
   "metadata": {},
   "source": [
    "# Основи програмування на Python #"
   ]
  },
  {
   "cell_type": "markdown",
   "id": "b342599f",
   "metadata": {},
   "source": [
    "---"
   ]
  },
  {
   "cell_type": "markdown",
   "id": "8d1b7374",
   "metadata": {},
   "source": [
    "## Тема: Основи програмування на Python"
   ]
  },
  {
   "cell_type": "markdown",
   "id": "46ca3381",
   "metadata": {},
   "source": [
    "## Мета роботи: Навчитись застосовувати основні конструкції мови Python, виконати всі приклади та з використанням AI створити власні приклади які демонструють особливості кодових конструкцій Pyhton"
   ]
  },
  {
   "cell_type": "markdown",
   "id": "a673e4ba",
   "metadata": {},
   "source": [
    "---"
   ]
  },
  {
   "cell_type": "markdown",
   "id": "172da862",
   "metadata": {},
   "source": [
    "## В цьому файлі будуть виконуватись базові приклади застосовуючи команду print ##"
   ]
  },
  {
   "cell_type": "markdown",
   "id": "f81ecd0c",
   "metadata": {},
   "source": [
    "# 🟩 Завдання 1. Основні типи даних # "
   ]
  },
  {
   "cell_type": "code",
   "execution_count": 1,
   "id": "f772faea",
   "metadata": {},
   "outputs": [
    {
     "name": "stdout",
     "output_type": "stream",
     "text": [
      "=== Основні типи даних ===\n",
      "a = змінна з текстом\n",
      "b = 1\n",
      "b1 = 1.1\n",
      "c = ['a', 1, 1.25, 'Слово', 'змінна з текстом']\n",
      "d = {'a': 'Слово', 'b': 1, 'змінна з текстом': 1}\n",
      "e = ('a', 'змінна з текстом')\n",
      "f = {'змінна з текстом1', 'ss'}\n"
     ]
    }
   ],
   "source": [
    "print(\"=== Основні типи даних ===\")\n",
    "\n",
    "a = \"змінна з текстом\"\n",
    "b = 1  # числова змінна\n",
    "b1 = 1.1\n",
    "c = [\"a\", 1, 1.25, \"Слово\", a]  # List\n",
    "d = {\"a\": \"Слово\", \"b\": 1, a: b}  # Dict\n",
    "e = (\"a\", a)  # Tuple\n",
    "f = {\"ss\", a + str(b)}  # Set (додано str щоб не було помилки)\n",
    "\n",
    "print(\"a =\", a)\n",
    "print(\"b =\", b)\n",
    "print(\"b1 =\", b1)\n",
    "print(\"c =\", c)\n",
    "print(\"d =\", d)\n",
    "print(\"e =\", e)\n",
    "print(\"f =\", f)"
   ]
  },
  {
   "cell_type": "markdown",
   "id": "b7cc1c31",
   "metadata": {},
   "source": [
    "# 🟩 Завдання 2. Вбудовані константи та зарезервовані слова #"
   ]
  },
  {
   "cell_type": "code",
   "execution_count": 2,
   "id": "59764ab2",
   "metadata": {},
   "outputs": [
    {
     "name": "stdout",
     "output_type": "stream",
     "text": [
      "=== Вбудовані константи ===\n",
      "Перша константа: True\n",
      "Друга константа: None\n",
      "Третя константа: False\n",
      "Як можна так робити вивід? True\n",
      "\n",
      "=== Зарезервовані слова Python ===\n",
      "\n",
      "Here is a list of the Python keywords.  Enter any keyword to get more help.\n",
      "\n",
      "False               class               from                or\n",
      "None                continue            global              pass\n",
      "True                def                 if                  raise\n",
      "and                 del                 import              return\n",
      "as                  elif                in                  try\n",
      "assert              else                is                  while\n",
      "async               except              lambda              with\n",
      "await               finally             nonlocal            yield\n",
      "break               for                 not                 \n",
      "\n"
     ]
    }
   ],
   "source": [
    "print(\"=== Вбудовані константи ===\")\n",
    "print(\"Перша константа:\", True)\n",
    "print(\"Друга константа:\", None)\n",
    "print(\"Третя константа:\", False)\n",
    "print(f\"Як можна так робити вивід? {True}\")\n",
    "\n",
    "print(\"\\n=== Зарезервовані слова Python ===\")\n",
    "import sys\n",
    "help(\"keywords\")"
   ]
  },
  {
   "cell_type": "markdown",
   "id": "352bf5ff",
   "metadata": {},
   "source": [
    "# 🟩 Завдання 3. Вбудовані функції"
   ]
  },
  {
   "cell_type": "code",
   "execution_count": 3,
   "id": "c834cf59",
   "metadata": {},
   "outputs": [
    {
     "name": "stdout",
     "output_type": "stream",
     "text": [
      "=== Вбудовані функції ===\n",
      "12.5 є рівним 12.5 і якщо порівняти то: True\n",
      "Максимум із [1, 5, 9] = 9\n",
      "Сума чисел [10, 20, 30] = 60\n"
     ]
    }
   ],
   "source": [
    "print(\"=== Вбудовані функції ===\")\n",
    "\n",
    "print(abs(-12.5), f\"є рівним {abs(12.5)}\", \"і якщо порівняти то:\", abs(-12.5) == abs(12.5))\n",
    "print(\"Максимум із [1, 5, 9] =\", max([1, 5, 9]))\n",
    "print(\"Сума чисел [10, 20, 30] =\", sum([10, 20, 30]))"
   ]
  },
  {
   "cell_type": "markdown",
   "id": "067e3bf1",
   "metadata": {},
   "source": [
    "# 🟩 Завдання 4. Цикл (for,while)"
   ]
  },
  {
   "cell_type": "code",
   "execution_count": 4,
   "id": "ca70e60c",
   "metadata": {},
   "outputs": [
    {
     "name": "stdout",
     "output_type": "stream",
     "text": [
      "=== Цикли ===\n",
      "На позиції 0 знаходиться буква a\n",
      "На позиції 1 знаходиться буква b\n",
      "На позиції 2 знаходиться буква c\n",
      "Ця конструкція безглузда!\n",
      "\n",
      "— Цикл while —\n",
      "x = 3\n",
      "x = 2\n",
      "x = 1\n",
      "Цикл while завершено\n"
     ]
    }
   ],
   "source": [
    "print(\"=== Цикли ===\")\n",
    "\n",
    "letters = [\"a\", \"b\", \"c\"]\n",
    "for i in range(len(letters)):\n",
    "    print(f\"На позиції {i} знаходиться буква {letters[i]}\")\n",
    "else:\n",
    "    print(\"Ця конструкція безглузда!\")\n",
    "\n",
    "print(\"\\n— Цикл while —\")\n",
    "x = 3\n",
    "while x > 0:\n",
    "    print(\"x =\", x)\n",
    "    x -= 1\n",
    "else:\n",
    "    print(\"Цикл while завершено\")"
   ]
  },
  {
   "cell_type": "markdown",
   "id": "40cb4041",
   "metadata": {},
   "source": [
    "# 🟩 Завдання 5. Цикл (if,else,elif)"
   ]
  },
  {
   "cell_type": "code",
   "execution_count": 5,
   "id": "60098063",
   "metadata": {},
   "outputs": [
    {
     "name": "stdout",
     "output_type": "stream",
     "text": [
      "=== Розгалуження ===\n",
      "Але може бути що А=0\n",
      "Число негативне: -1\n"
     ]
    }
   ],
   "source": [
    "print(\"=== Розгалуження ===\")\n",
    "\n",
    "from random import randint\n",
    "\n",
    "A = randint(0, 1)\n",
    "print(f\"Значить А={A}\" if A else \"Але може бути що А={}\".format(A))\n",
    "\n",
    "number = randint(-5, 5)\n",
    "if number > 0:\n",
    "    print(\"Число позитивне:\", number)\n",
    "elif number < 0:\n",
    "    print(\"Число негативне:\", number)\n",
    "else:\n",
    "    print(\"Число дорівнює нулю\")\n"
   ]
  },
  {
   "cell_type": "markdown",
   "id": "45dc77a1",
   "metadata": {},
   "source": [
    "# 🟩 Завдання 6. try-except-finally "
   ]
  },
  {
   "cell_type": "code",
   "execution_count": 6,
   "id": "da5eab33",
   "metadata": {},
   "outputs": [
    {
     "name": "stdout",
     "output_type": "stream",
     "text": [
      "=== Try / Except / Finally ===\n",
      "Невже це помилка > division by zero\n",
      "О це так на тобі!\n"
     ]
    }
   ],
   "source": [
    "print(\"=== Try / Except / Finally ===\")\n",
    "\n",
    "A = 0\n",
    "try:\n",
    "    print(\"Що буде якщо\", 10 / A, \"?\")\n",
    "except Exception as e:\n",
    "    print(\"Невже це помилка >\", e)\n",
    "finally:\n",
    "    print(\"О це так на тобі!\")\n"
   ]
  },
  {
   "cell_type": "markdown",
   "id": "3391f410",
   "metadata": {},
   "source": [
    "# 🟩 Завдання 7. Контекст-менеджер with "
   ]
  },
  {
   "cell_type": "code",
   "execution_count": 7,
   "id": "deb41f22",
   "metadata": {},
   "outputs": [
    {
     "name": "stdout",
     "output_type": "stream",
     "text": [
      "=== Контекст-менеджер with ===\n",
      "0)> # 🧾 Звіт до роботи\n",
      "1)> \n",
      "2)> ---\n",
      "3)> \n"
     ]
    }
   ],
   "source": [
    "print(\"=== Контекст-менеджер with ===\")\n",
    "\n",
    "try:\n",
    "    with open(\"README.md\", \"r\", encoding=\"utf-8\") as f:\n",
    "        for i, line in enumerate(f):\n",
    "            print(f\"{i})> {line.strip()}\")\n",
    "            if i > 2:\n",
    "                break  # щоб не виводити весь файл\n",
    "except FileNotFoundError:\n",
    "    print(\"Файл README.md не знайдено — створіть його поруч із цим скриптом.\")"
   ]
  },
  {
   "cell_type": "markdown",
   "id": "907a09d5",
   "metadata": {},
   "source": [
    "# 🟩 Завдання 8. Лямбда-функції"
   ]
  },
  {
   "cell_type": "code",
   "execution_count": 8,
   "id": "66809ac7",
   "metadata": {},
   "outputs": [
    {
     "name": "stdout",
     "output_type": "stream",
     "text": [
      "=== Лямбда-функції ===\n",
      "Це просто функція: <function a_b_func at 0x000001F5C9B34FE0>\n",
      "А це лямбда: <function <lambda> at 0x000001F5C9B34040>\n",
      "Це її виклик: Цей код написав: Богдан, мені         25 років\n",
      "Цей код написав: Анна, мені         19 років\n",
      "=== Кінець програми ===\n"
     ]
    }
   ],
   "source": [
    "print(\"=== Лямбда-функції ===\")\n",
    "\n",
    "def a_b_func(a, b):\n",
    "    return a, b\n",
    "\n",
    "this_is_lambda = lambda first, age: f\"Цей код написав: {first}, мені {age:10d} років\"\n",
    "\n",
    "print(\"Це просто функція:\", a_b_func)\n",
    "print(\"А це лямбда:\", this_is_lambda)\n",
    "print(\"Це її виклик:\", this_is_lambda('Богдан', 25))\n",
    "print(this_is_lambda(*a_b_func(\"Анна\", 19)))\n",
    "print(\"=== Кінець програми ===\")"
   ]
  },
  {
   "cell_type": "markdown",
   "id": "c694937c",
   "metadata": {},
   "source": [
    "---"
   ]
  },
  {
   "cell_type": "markdown",
   "id": "fa253637",
   "metadata": {},
   "source": [
    "## Висновок: Навчились застосовувати основні конструкції мови Python, виконали всі приклади та з використанням AI створити власні приклади які демонструють особливості кодових конструкцій Pyhton"
   ]
  },
  {
   "cell_type": "markdown",
   "id": "9c1cdbfa",
   "metadata": {},
   "source": [
    "## 🫡"
   ]
  },
  {
   "cell_type": "markdown",
   "id": "41e2f7f8",
   "metadata": {},
   "source": [
    "## Виконав:\n",
    "# Студент групи КН-210\n",
    "# Звізло Олександр"
   ]
  }
 ],
 "metadata": {
  "kernelspec": {
   "display_name": "Python 3",
   "language": "python",
   "name": "python3"
  },
  "language_info": {
   "codemirror_mode": {
    "name": "ipython",
    "version": 3
   },
   "file_extension": ".py",
   "mimetype": "text/x-python",
   "name": "python",
   "nbconvert_exporter": "python",
   "pygments_lexer": "ipython3",
   "version": "3.13.7"
  }
 },
 "nbformat": 4,
 "nbformat_minor": 5
}
